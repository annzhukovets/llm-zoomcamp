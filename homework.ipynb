{
 "cells": [
  {
   "cell_type": "code",
   "execution_count": 1,
   "id": "ce8bda9c-9a03-4313-9a44-77e7e204fe48",
   "metadata": {},
   "outputs": [],
   "source": [
    "import openai"
   ]
  },
  {
   "cell_type": "code",
   "execution_count": 3,
   "id": "d41ad382-d0bd-469f-b5da-fbb8081af380",
   "metadata": {},
   "outputs": [],
   "source": [
    "from openai import OpenAI"
   ]
  },
  {
   "cell_type": "code",
   "execution_count": 5,
   "id": "f882eb3d-1e1a-48c5-a84d-129d120853c2",
   "metadata": {},
   "outputs": [],
   "source": [
    "client = OpenAI()"
   ]
  },
  {
   "cell_type": "code",
   "execution_count": 10,
   "id": "bfa32c00-3c65-4c08-ace4-954705deb4ac",
   "metadata": {},
   "outputs": [],
   "source": [
    "response = client.chat.completions.create(\n",
    "    model='gpt-4o',\n",
    "    messages=[{\"role\": \"user\", \"content\": \"is it too late to join the course?\"}]\n",
    ")"
   ]
  },
  {
   "cell_type": "code",
   "execution_count": 14,
   "id": "b5a6c73f-a7ca-4e0c-9746-cf57c6510cc9",
   "metadata": {},
   "outputs": [
    {
     "data": {
      "text/plain": [
       "\"It's not too late to join a course most of the time, but the specifics can vary depending on the institution, the course, and its enrollment policies. Here are a few steps you can take to find out:\\n\\n1. **Check Enrollment Deadlines:** Look at the official website or contact the course administrator to find out important dates.\\n\\n2. **Contact the Instructor:** Sometimes instructors can add students after the deadline if there's space available and the student shows genuine interest.\\n\\n3. **See if There’s a Waitlist:** If the course is full, ask if you can be put on a waitlist.\\n\\n4. **Consider Late Enrollment Policies:** Some institutions have policies for late enrollment, which might include extra fees or additional paperwork.\\n\\n5. **Self-paced or Online Courses:** Look for self-paced or rolling enrollment courses which allow you to join at any time.\\n\\n6. **Speak to an Academic Advisor:** They can provide detailed guidance specific to your situation.\\n\\nIt’s always worth reaching out to see if an exception can be made or if there are alternatives that meet your needs.\""
      ]
     },
     "execution_count": 14,
     "metadata": {},
     "output_type": "execute_result"
    }
   ],
   "source": [
    "response.choices[0].message.content"
   ]
  },
  {
   "cell_type": "code",
   "execution_count": null,
   "id": "84c74b15-1fc1-4df3-af8e-84b106074d2a",
   "metadata": {},
   "outputs": [],
   "source": []
  }
 ],
 "metadata": {
  "kernelspec": {
   "display_name": "Python 3 (ipykernel)",
   "language": "python",
   "name": "python3"
  },
  "language_info": {
   "codemirror_mode": {
    "name": "ipython",
    "version": 3
   },
   "file_extension": ".py",
   "mimetype": "text/x-python",
   "name": "python",
   "nbconvert_exporter": "python",
   "pygments_lexer": "ipython3",
   "version": "3.10.13"
  }
 },
 "nbformat": 4,
 "nbformat_minor": 5
}
